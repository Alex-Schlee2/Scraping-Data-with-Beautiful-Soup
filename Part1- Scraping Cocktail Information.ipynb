{
 "cells": [
  {
   "cell_type": "code",
   "execution_count": 1,
   "metadata": {},
   "outputs": [],
   "source": [
    "import pandas as pd\n",
    "import requests\n",
    "import html5lib\n",
    "from bs4 import BeautifulSoup"
   ]
  },
  {
   "cell_type": "markdown",
   "metadata": {},
   "source": [
    "### Cocktail no.1 - Sex on the Beach"
   ]
  },
  {
   "cell_type": "code",
   "execution_count": 2,
   "metadata": {},
   "outputs": [
    {
     "name": "stdout",
     "output_type": "stream",
     "text": [
      "cocktail_name: Sex on the beach cocktail\n",
      "--------------\n",
      "calories: 92\n",
      "--------------\n",
      "sugar: 8g\n",
      "--------------\n",
      "description: ice50ml vodka Vodka vod-kaOriginally associated with Russia, Slavonic, Baltic and Scandinavian countries, vodka has become… 25ml peach schnapps2 oranges, juiced, plus 2 slices to garnish Orange or-ange One of the best-known citrus fruits, oranges aren't necessarily orange - some varieties are… 50ml cranberry juiceglacé cherries, to garnish (optional)\n"
     ]
    },
    {
     "data": {
      "text/html": [
       "<div>\n",
       "<style scoped>\n",
       "    .dataframe tbody tr th:only-of-type {\n",
       "        vertical-align: middle;\n",
       "    }\n",
       "\n",
       "    .dataframe tbody tr th {\n",
       "        vertical-align: top;\n",
       "    }\n",
       "\n",
       "    .dataframe thead th {\n",
       "        text-align: right;\n",
       "    }\n",
       "</style>\n",
       "<table border=\"1\" class=\"dataframe\">\n",
       "  <thead>\n",
       "    <tr style=\"text-align: right;\">\n",
       "      <th></th>\n",
       "      <th>cocktail_name</th>\n",
       "      <th>calories_per_serving</th>\n",
       "      <th>sugar</th>\n",
       "      <th>description</th>\n",
       "    </tr>\n",
       "  </thead>\n",
       "  <tbody>\n",
       "    <tr>\n",
       "      <th>0</th>\n",
       "      <td>Sex on the beach cocktail</td>\n",
       "      <td>92</td>\n",
       "      <td>8g</td>\n",
       "      <td>ice50ml vodka Vodka vod-kaOriginally associate...</td>\n",
       "    </tr>\n",
       "  </tbody>\n",
       "</table>\n",
       "</div>"
      ],
      "text/plain": [
       "               cocktail_name calories_per_serving sugar  \\\n",
       "0  Sex on the beach cocktail                   92    8g   \n",
       "\n",
       "                                         description  \n",
       "0  ice50ml vodka Vodka vod-kaOriginally associate...  "
      ]
     },
     "execution_count": 2,
     "metadata": {},
     "output_type": "execute_result"
    }
   ],
   "source": [
    "ua = {\"User-Agent\":\"Mozilla/5.0 (Windows NT 6.1; Win64; x64; rv:68.0) Gecko/20100101 Firefox/68.0\"}\n",
    "\n",
    "page= requests.get('https://www.bbcgoodfood.com/recipes/sex-beach-cocktail', headers=ua)\n",
    "\n",
    "soup=BeautifulSoup(page.content, 'html.parser')\n",
    "\n",
    "#cocktail_name\n",
    "cocktail_name=soup.h1.text\n",
    "print('cocktail_name:', cocktail_name)\n",
    "\n",
    "print('--------------')\n",
    "\n",
    "# calories per serving\n",
    "calories_per_serving=soup.find(class_='nutrition__value').text\n",
    "print('calories:', calories_per_serving)\n",
    "\n",
    "print('--------------')\n",
    "\n",
    "#sugar\n",
    "sugar=soup.find(itemprop='sugarContent').text\n",
    "print('sugar:',sugar)\n",
    "\n",
    "print('--------------')\n",
    "\n",
    "#description\n",
    "description=soup.find(class_='ingredients-list__group').text\n",
    "print('description:', description)\n",
    "\n",
    "SexOnTheBeach=pd.DataFrame(\n",
    "    {'cocktail_name': [cocktail_name],\n",
    "    'calories_per_serving': [calories_per_serving],\n",
    "    'sugar': [sugar],\n",
    "    'description': [description]}, index=[0])\n",
    "\n",
    "SexOnTheBeach.head()"
   ]
  },
  {
   "cell_type": "code",
   "execution_count": null,
   "metadata": {},
   "outputs": [],
   "source": []
  },
  {
   "cell_type": "markdown",
   "metadata": {},
   "source": [
    "### Cocktail no.2 - Mojito"
   ]
  },
  {
   "cell_type": "code",
   "execution_count": 149,
   "metadata": {},
   "outputs": [
    {
     "name": "stdout",
     "output_type": "stream",
     "text": [
      "cocktail_name: Mojito recipe\n",
      "--------------\n",
      "calories: 158\n",
      "--------------\n",
      "sugar: 4.3g\n",
      "--------------\n",
      "description: juice of 1 lime Lime ly-mThe same shape, but smaller than… 1 tsp granulated sugarsmall handful mint leaves, plus extra sprig to serve Mint mi-ntThere are several types of mint, each with its own subtle difference in flavour and appearance.… 60ml white rum Rum rhumRum is a type of spirit based on sugar cane. First produced in the 1600s on slave plantations in… soda water, to taste\n"
     ]
    },
    {
     "data": {
      "text/html": [
       "<div>\n",
       "<style scoped>\n",
       "    .dataframe tbody tr th:only-of-type {\n",
       "        vertical-align: middle;\n",
       "    }\n",
       "\n",
       "    .dataframe tbody tr th {\n",
       "        vertical-align: top;\n",
       "    }\n",
       "\n",
       "    .dataframe thead th {\n",
       "        text-align: right;\n",
       "    }\n",
       "</style>\n",
       "<table border=\"1\" class=\"dataframe\">\n",
       "  <thead>\n",
       "    <tr style=\"text-align: right;\">\n",
       "      <th></th>\n",
       "      <th>cocktail_name</th>\n",
       "      <th>calories_per_serving</th>\n",
       "      <th>sugar</th>\n",
       "      <th>description</th>\n",
       "    </tr>\n",
       "  </thead>\n",
       "  <tbody>\n",
       "    <tr>\n",
       "      <th>0</th>\n",
       "      <td>Mojito recipe</td>\n",
       "      <td>158</td>\n",
       "      <td>4.3g</td>\n",
       "      <td>juice of 1 lime Lime ly-mThe same shape, but s...</td>\n",
       "    </tr>\n",
       "  </tbody>\n",
       "</table>\n",
       "</div>"
      ],
      "text/plain": [
       "   cocktail_name calories_per_serving sugar  \\\n",
       "0  Mojito recipe                  158  4.3g   \n",
       "\n",
       "                                         description  \n",
       "0  juice of 1 lime Lime ly-mThe same shape, but s...  "
      ]
     },
     "execution_count": 149,
     "metadata": {},
     "output_type": "execute_result"
    }
   ],
   "source": [
    "ua = {\"User-Agent\":\"Mozilla/5.0 (Windows NT 6.1; Win64; x64; rv:68.0) Gecko/20100101 Firefox/68.0\"}\n",
    "\n",
    "page= requests.get('https://www.bbcgoodfood.com/recipes/mojito', headers=ua)\n",
    "\n",
    "soup=BeautifulSoup(page.content, 'html.parser')\n",
    "\n",
    "#cocktail_name\n",
    "cocktail_name=soup.h1.text\n",
    "print('cocktail_name:', cocktail_name)\n",
    "\n",
    "print('--------------')\n",
    "\n",
    "# calories per serving\n",
    "calories_per_serving=soup.find(class_='nutrition__value').text\n",
    "print('calories:', calories_per_serving)\n",
    "\n",
    "print('--------------')\n",
    "\n",
    "#sugar\n",
    "sugar=soup.find(itemprop='sugarContent').text\n",
    "print('sugar:',sugar)\n",
    "\n",
    "print('--------------')\n",
    "\n",
    "#description\n",
    "description=soup.find(class_='ingredients-list__group').text\n",
    "print('description:', description)\n",
    "\n",
    "Mojito=pd.DataFrame(\n",
    "    {'cocktail_name': [cocktail_name],\n",
    "    'calories_per_serving': [calories_per_serving],\n",
    "    'sugar': [sugar],\n",
    "    'description': [description]}, index=[0])\n",
    "Mojito.head()"
   ]
  },
  {
   "cell_type": "markdown",
   "metadata": {},
   "source": [
    "### Cocktail no. 3- Caipirinha"
   ]
  },
  {
   "cell_type": "code",
   "execution_count": 150,
   "metadata": {},
   "outputs": [
    {
     "name": "stdout",
     "output_type": "stream",
     "text": [
      "cocktail_name: Caipirinha\n",
      "--------------\n",
      "calories: 245\n",
      "--------------\n",
      "sugar: 30g\n",
      "--------------\n",
      "description: 2 limes, chopped into wedges, plus extra lime wedges to serve (optional) Lime ly-mThe same shape, but smaller than… 6 tbsp golden caster sugar200ml cachaçafew handfuls crushed ice\n"
     ]
    },
    {
     "data": {
      "text/html": [
       "<div>\n",
       "<style scoped>\n",
       "    .dataframe tbody tr th:only-of-type {\n",
       "        vertical-align: middle;\n",
       "    }\n",
       "\n",
       "    .dataframe tbody tr th {\n",
       "        vertical-align: top;\n",
       "    }\n",
       "\n",
       "    .dataframe thead th {\n",
       "        text-align: right;\n",
       "    }\n",
       "</style>\n",
       "<table border=\"1\" class=\"dataframe\">\n",
       "  <thead>\n",
       "    <tr style=\"text-align: right;\">\n",
       "      <th></th>\n",
       "      <th>cocktail_name</th>\n",
       "      <th>calories_per_serving</th>\n",
       "      <th>sugar</th>\n",
       "      <th>description</th>\n",
       "    </tr>\n",
       "  </thead>\n",
       "  <tbody>\n",
       "    <tr>\n",
       "      <th>0</th>\n",
       "      <td>Caipirinha</td>\n",
       "      <td>245</td>\n",
       "      <td>30g</td>\n",
       "      <td>2 limes, chopped into wedges, plus extra lime ...</td>\n",
       "    </tr>\n",
       "  </tbody>\n",
       "</table>\n",
       "</div>"
      ],
      "text/plain": [
       "  cocktail_name calories_per_serving sugar  \\\n",
       "0    Caipirinha                  245   30g   \n",
       "\n",
       "                                         description  \n",
       "0  2 limes, chopped into wedges, plus extra lime ...  "
      ]
     },
     "execution_count": 150,
     "metadata": {},
     "output_type": "execute_result"
    }
   ],
   "source": [
    "ua = {\"User-Agent\":\"Mozilla/5.0 (Windows NT 6.1; Win64; x64; rv:68.0) Gecko/20100101 Firefox/68.0\"}\n",
    "\n",
    "page= requests.get('https://www.bbcgoodfood.com/recipes/caipirinha', headers=ua)\n",
    "\n",
    "soup=BeautifulSoup(page.content, 'html.parser')\n",
    "\n",
    "#cocktail_name\n",
    "cocktail_name=soup.h1.text\n",
    "print('cocktail_name:', cocktail_name)\n",
    "\n",
    "print('--------------')\n",
    "\n",
    "# calories per serving\n",
    "calories_per_serving=soup.find(class_='nutrition__value').text\n",
    "print('calories:', calories_per_serving)\n",
    "\n",
    "print('--------------')\n",
    "\n",
    "#sugar\n",
    "sugar=soup.find(itemprop='sugarContent').text\n",
    "print('sugar:',sugar)\n",
    "\n",
    "print('--------------')\n",
    "\n",
    "#description\n",
    "description=soup.find(class_='ingredients-list__group').text\n",
    "print('description:', description)\n",
    "\n",
    "Caipirinha=pd.DataFrame(\n",
    "    {'cocktail_name': [cocktail_name],\n",
    "    'calories_per_serving': [calories_per_serving],\n",
    "    'sugar': [sugar],\n",
    "    'description': [description]}, index=[0])\n",
    "Caipirinha.head()"
   ]
  },
  {
   "cell_type": "markdown",
   "metadata": {},
   "source": [
    "### Cocktail no. 4- Cuba Libre"
   ]
  },
  {
   "cell_type": "code",
   "execution_count": 151,
   "metadata": {},
   "outputs": [
    {
     "name": "stdout",
     "output_type": "stream",
     "text": [
      "cocktail_name: Cuba Libre\n",
      "--------------\n",
      "calories: 159\n",
      "--------------\n",
      "sugar: 10g\n",
      "--------------\n",
      "description: ½ lime Lime ly-mThe same shape, but smaller than… 50ml rum, we used white rum Rum rhumRum is a type of spirit based on sugar cane. First produced in the 1600s on slave plantations in… 100ml colaice\n"
     ]
    },
    {
     "data": {
      "text/html": [
       "<div>\n",
       "<style scoped>\n",
       "    .dataframe tbody tr th:only-of-type {\n",
       "        vertical-align: middle;\n",
       "    }\n",
       "\n",
       "    .dataframe tbody tr th {\n",
       "        vertical-align: top;\n",
       "    }\n",
       "\n",
       "    .dataframe thead th {\n",
       "        text-align: right;\n",
       "    }\n",
       "</style>\n",
       "<table border=\"1\" class=\"dataframe\">\n",
       "  <thead>\n",
       "    <tr style=\"text-align: right;\">\n",
       "      <th></th>\n",
       "      <th>cocktail_name</th>\n",
       "      <th>calories_per_serving</th>\n",
       "      <th>sugar</th>\n",
       "      <th>description</th>\n",
       "    </tr>\n",
       "  </thead>\n",
       "  <tbody>\n",
       "    <tr>\n",
       "      <th>0</th>\n",
       "      <td>Cuba Libre</td>\n",
       "      <td>159</td>\n",
       "      <td>10g</td>\n",
       "      <td>½ lime Lime ly-mThe same shape, but smaller th...</td>\n",
       "    </tr>\n",
       "  </tbody>\n",
       "</table>\n",
       "</div>"
      ],
      "text/plain": [
       "  cocktail_name calories_per_serving sugar  \\\n",
       "0    Cuba Libre                  159   10g   \n",
       "\n",
       "                                         description  \n",
       "0  ½ lime Lime ly-mThe same shape, but smaller th...  "
      ]
     },
     "execution_count": 151,
     "metadata": {},
     "output_type": "execute_result"
    }
   ],
   "source": [
    "ua = {\"User-Agent\":\"Mozilla/5.0 (Windows NT 6.1; Win64; x64; rv:68.0) Gecko/20100101 Firefox/68.0\"}\n",
    "\n",
    "page= requests.get('https://www.bbcgoodfood.com/recipes/cuba-libre', headers=ua)\n",
    "\n",
    "soup=BeautifulSoup(page.content, 'html.parser')\n",
    "\n",
    "#cocktail_name\n",
    "cocktail_name=soup.h1.text\n",
    "print('cocktail_name:', cocktail_name)\n",
    "\n",
    "print('--------------')\n",
    "\n",
    "# calories per serving\n",
    "calories_per_serving=soup.find(class_='nutrition__value').text\n",
    "print('calories:', calories_per_serving)\n",
    "\n",
    "print('--------------')\n",
    "\n",
    "#sugar\n",
    "sugar=soup.find(itemprop='sugarContent').text\n",
    "print('sugar:',sugar)\n",
    "\n",
    "print('--------------')\n",
    "\n",
    "#description\n",
    "description=soup.find(class_='ingredients-list__group').text\n",
    "print('description:', description)    \n",
    "    \n",
    "CubaLibre=pd.DataFrame(\n",
    "    {'cocktail_name': [cocktail_name],\n",
    "    'calories_per_serving': [calories_per_serving],\n",
    "    'sugar': [sugar],\n",
    "    'description': [description]}, index=[0])\n",
    "\n",
    "CubaLibre"
   ]
  },
  {
   "cell_type": "markdown",
   "metadata": {},
   "source": [
    "### Cocktail no. 5- Long Island Iced Tea"
   ]
  },
  {
   "cell_type": "code",
   "execution_count": 152,
   "metadata": {},
   "outputs": [
    {
     "name": "stdout",
     "output_type": "stream",
     "text": [
      "cocktail_name: Long Island iced tea\n",
      "--------------\n",
      "calories: 212\n",
      "--------------\n",
      "sugar: 16g\n",
      "--------------\n",
      "description: 50ml vanilla vodka (we used Absolut Vanilia) Vodka vod-kaOriginally associated with Russia, Slavonic, Baltic and Scandinavian countries, vodka has become… 50ml London dry gin Gin jinnGin has enjoyed a huge revival recently. It's usually served alongside tonic water (a… 50ml reposado tequila (we used El Jimador)50ml rum (we used Bacardi) Rum rhumRum is a type of spirit based on sugar cane. First produced in the 1600s on slave plantations in… 50ml triple sec (we used Cointreau)50-100ml fresh lime juiceice500ml cola2 limes, cut into wedges Lime ly-mThe same shape, but smaller than… \n"
     ]
    },
    {
     "data": {
      "text/html": [
       "<div>\n",
       "<style scoped>\n",
       "    .dataframe tbody tr th:only-of-type {\n",
       "        vertical-align: middle;\n",
       "    }\n",
       "\n",
       "    .dataframe tbody tr th {\n",
       "        vertical-align: top;\n",
       "    }\n",
       "\n",
       "    .dataframe thead th {\n",
       "        text-align: right;\n",
       "    }\n",
       "</style>\n",
       "<table border=\"1\" class=\"dataframe\">\n",
       "  <thead>\n",
       "    <tr style=\"text-align: right;\">\n",
       "      <th></th>\n",
       "      <th>cocktail_name</th>\n",
       "      <th>calories_per_serving</th>\n",
       "      <th>sugar</th>\n",
       "      <th>description</th>\n",
       "    </tr>\n",
       "  </thead>\n",
       "  <tbody>\n",
       "    <tr>\n",
       "      <th>0</th>\n",
       "      <td>Long Island iced tea</td>\n",
       "      <td>212</td>\n",
       "      <td>16g</td>\n",
       "      <td>50ml vanilla vodka (we used Absolut Vanilia) V...</td>\n",
       "    </tr>\n",
       "  </tbody>\n",
       "</table>\n",
       "</div>"
      ],
      "text/plain": [
       "          cocktail_name calories_per_serving sugar  \\\n",
       "0  Long Island iced tea                  212   16g   \n",
       "\n",
       "                                         description  \n",
       "0  50ml vanilla vodka (we used Absolut Vanilia) V...  "
      ]
     },
     "execution_count": 152,
     "metadata": {},
     "output_type": "execute_result"
    }
   ],
   "source": [
    "ua = {\"User-Agent\":\"Mozilla/5.0 (Windows NT 6.1; Win64; x64; rv:68.0) Gecko/20100101 Firefox/68.0\"}\n",
    "\n",
    "page= requests.get('https://www.bbcgoodfood.com/recipes/long-island-iced-tea', headers=ua)\n",
    "\n",
    "soup=BeautifulSoup(page.content, 'html.parser')\n",
    "\n",
    "#cocktail_name\n",
    "cocktail_name=soup.h1.text\n",
    "print('cocktail_name:', cocktail_name)\n",
    "\n",
    "print('--------------')\n",
    "\n",
    "# calories per serving\n",
    "calories_per_serving=soup.find(class_='nutrition__value').text\n",
    "print('calories:', calories_per_serving)\n",
    "\n",
    "print('--------------')\n",
    "\n",
    "#sugar\n",
    "sugar=soup.find(itemprop='sugarContent').text\n",
    "print('sugar:',sugar)\n",
    "\n",
    "print('--------------')\n",
    "\n",
    "#description\n",
    "description=soup.find(class_='ingredients-list__group').text\n",
    "print('description:', description)    \n",
    "    \n",
    "\n",
    "LongIslandIcedTea=pd.DataFrame(\n",
    "    {'cocktail_name': [cocktail_name],\n",
    "    'calories_per_serving': [calories_per_serving],\n",
    "    'sugar': [sugar],\n",
    "    'description': [description]}, index=[0])\n",
    "LongIslandIcedTea"
   ]
  },
  {
   "cell_type": "markdown",
   "metadata": {},
   "source": [
    "### Cocktail no. 6- Bloody Mary"
   ]
  },
  {
   "cell_type": "code",
   "execution_count": 153,
   "metadata": {},
   "outputs": [
    {
     "name": "stdout",
     "output_type": "stream",
     "text": [
      "cocktail_name: Bloody Mary recipe\n",
      "--------------\n",
      "calories: 160\n",
      "--------------\n",
      "sugar: 8g\n",
      "--------------\n",
      "description: large handful of ice100ml vodka Vodka vod-kaOriginally associated with Russia, Slavonic, Baltic and Scandinavian countries, vodka has become… 500ml tomato juice1 tbsp lemon juice, plus 2 slices to servefew shakes Worcestershire saucefew shakes Tabasco (smoked Tabasco is nice)pinch celery saltpinch black pepper2 celery sticks, to serve\n"
     ]
    },
    {
     "data": {
      "text/html": [
       "<div>\n",
       "<style scoped>\n",
       "    .dataframe tbody tr th:only-of-type {\n",
       "        vertical-align: middle;\n",
       "    }\n",
       "\n",
       "    .dataframe tbody tr th {\n",
       "        vertical-align: top;\n",
       "    }\n",
       "\n",
       "    .dataframe thead th {\n",
       "        text-align: right;\n",
       "    }\n",
       "</style>\n",
       "<table border=\"1\" class=\"dataframe\">\n",
       "  <thead>\n",
       "    <tr style=\"text-align: right;\">\n",
       "      <th></th>\n",
       "      <th>cocktail_name</th>\n",
       "      <th>calories_per_serving</th>\n",
       "      <th>sugar</th>\n",
       "      <th>description</th>\n",
       "    </tr>\n",
       "  </thead>\n",
       "  <tbody>\n",
       "    <tr>\n",
       "      <th>0</th>\n",
       "      <td>Bloody Mary recipe</td>\n",
       "      <td>160</td>\n",
       "      <td>8g</td>\n",
       "      <td>large handful of ice100ml vodka Vodka vod-kaOr...</td>\n",
       "    </tr>\n",
       "  </tbody>\n",
       "</table>\n",
       "</div>"
      ],
      "text/plain": [
       "        cocktail_name calories_per_serving sugar  \\\n",
       "0  Bloody Mary recipe                  160    8g   \n",
       "\n",
       "                                         description  \n",
       "0  large handful of ice100ml vodka Vodka vod-kaOr...  "
      ]
     },
     "execution_count": 153,
     "metadata": {},
     "output_type": "execute_result"
    }
   ],
   "source": [
    "ua = {\"User-Agent\":\"Mozilla/5.0 (Windows NT 6.1; Win64; x64; rv:68.0) Gecko/20100101 Firefox/68.0\"}\n",
    "\n",
    "page= requests.get('https://www.bbcgoodfood.com/recipes/bloody-mary', headers=ua)\n",
    "\n",
    "soup=BeautifulSoup(page.content, 'html.parser')\n",
    "\n",
    "#cocktail_name\n",
    "cocktail_name=soup.h1.text\n",
    "print('cocktail_name:', cocktail_name)\n",
    "\n",
    "print('--------------')\n",
    "\n",
    "# calories per serving\n",
    "calories_per_serving=soup.find(class_='nutrition__value').text\n",
    "print('calories:', calories_per_serving)\n",
    "\n",
    "print('--------------')\n",
    "\n",
    "#sugar\n",
    "sugar=soup.find(itemprop='sugarContent').text\n",
    "print('sugar:',sugar)\n",
    "\n",
    "print('--------------')\n",
    "\n",
    "#description\n",
    "description=soup.find(class_='ingredients-list__group').text\n",
    "print('description:', description)    \n",
    "    \n",
    "\n",
    "BloodyMary=pd.DataFrame(\n",
    "    {'cocktail_name': [cocktail_name],\n",
    "    'calories_per_serving': [calories_per_serving],\n",
    "    'sugar': [sugar],\n",
    "    'description': [description]}, index=[0])\n",
    "BloodyMary"
   ]
  },
  {
   "cell_type": "markdown",
   "metadata": {},
   "source": [
    "### Cocktail no. 7- Mai Tai"
   ]
  },
  {
   "cell_type": "code",
   "execution_count": 154,
   "metadata": {},
   "outputs": [
    {
     "name": "stdout",
     "output_type": "stream",
     "text": [
      "cocktail_name: Mai tai\n",
      "--------------\n",
      "calories: 284\n",
      "--------------\n",
      "sugar: 16.6g\n",
      "--------------\n",
      "description: 2 tbsp white rum Rum rhumRum is a type of spirit based on sugar cane. First produced in the 1600s on slave plantations in… 2 tbsp dark rum2 tbsp triple sec1 tbsp grenadine1 tbsp orgeat or almond syrup (we used Monin almond syrup, available online)juice of half a lime Lime ly-mThe same shape, but smaller than… maraschino cherry Cherry che-ree One of the delights of the summer, cherries are much loved for their succulent texture, flavour… \n"
     ]
    },
    {
     "data": {
      "text/html": [
       "<div>\n",
       "<style scoped>\n",
       "    .dataframe tbody tr th:only-of-type {\n",
       "        vertical-align: middle;\n",
       "    }\n",
       "\n",
       "    .dataframe tbody tr th {\n",
       "        vertical-align: top;\n",
       "    }\n",
       "\n",
       "    .dataframe thead th {\n",
       "        text-align: right;\n",
       "    }\n",
       "</style>\n",
       "<table border=\"1\" class=\"dataframe\">\n",
       "  <thead>\n",
       "    <tr style=\"text-align: right;\">\n",
       "      <th></th>\n",
       "      <th>cocktail_name</th>\n",
       "      <th>calories_per_serving</th>\n",
       "      <th>sugar</th>\n",
       "      <th>description</th>\n",
       "    </tr>\n",
       "  </thead>\n",
       "  <tbody>\n",
       "    <tr>\n",
       "      <th>0</th>\n",
       "      <td>Mai tai</td>\n",
       "      <td>284</td>\n",
       "      <td>16.6g</td>\n",
       "      <td>2 tbsp white rum Rum rhumRum is a type of spir...</td>\n",
       "    </tr>\n",
       "  </tbody>\n",
       "</table>\n",
       "</div>"
      ],
      "text/plain": [
       "  cocktail_name calories_per_serving  sugar  \\\n",
       "0       Mai tai                  284  16.6g   \n",
       "\n",
       "                                         description  \n",
       "0  2 tbsp white rum Rum rhumRum is a type of spir...  "
      ]
     },
     "execution_count": 154,
     "metadata": {},
     "output_type": "execute_result"
    }
   ],
   "source": [
    "ua = {\"User-Agent\":\"Mozilla/5.0 (Windows NT 6.1; Win64; x64; rv:68.0) Gecko/20100101 Firefox/68.0\"}\n",
    "\n",
    "page= requests.get('https://www.bbcgoodfood.com/recipes/mai-tai', headers=ua)\n",
    "\n",
    "soup=BeautifulSoup(page.content, 'html.parser')\n",
    "\n",
    "#cocktail_name\n",
    "cocktail_name=soup.h1.text\n",
    "print('cocktail_name:', cocktail_name)\n",
    "\n",
    "print('--------------')\n",
    "\n",
    "# calories per serving\n",
    "calories_per_serving=soup.find(class_='nutrition__value').text\n",
    "print('calories:', calories_per_serving)\n",
    "\n",
    "print('--------------')\n",
    "\n",
    "#sugar\n",
    "sugar=soup.find(itemprop='sugarContent').text\n",
    "print('sugar:',sugar)\n",
    "\n",
    "print('--------------')\n",
    "\n",
    "#description\n",
    "description=soup.find(class_='ingredients-list__group').text\n",
    "print('description:', description)    \n",
    "    \n",
    "\n",
    "MaiTai=pd.DataFrame(\n",
    "    {'cocktail_name': [cocktail_name],\n",
    "    'calories_per_serving': [calories_per_serving],\n",
    "    'sugar': [sugar],\n",
    "    'description': [description]}, index=[0])\n",
    "MaiTai"
   ]
  },
  {
   "cell_type": "markdown",
   "metadata": {},
   "source": [
    "### Cocktail no. 8- Piña Colada"
   ]
  },
  {
   "cell_type": "code",
   "execution_count": 156,
   "metadata": {},
   "outputs": [
    {
     "name": "stdout",
     "output_type": "stream",
     "text": [
      "cocktail_name: Piña colada\n",
      "--------------\n",
      "calories: 314\n",
      "--------------\n",
      "sugar: 13.6g\n",
      "--------------\n",
      "description: 120ml pineapple juice Pineapple pine-ap-pelWith its tuft of spiky, dusty green leaves and cross-hatched, golden orange skin, the pineapple… 60ml white rum Rum rhumRum is a type of spirit based on sugar cane. First produced in the 1600s on slave plantations in… 60ml coconut creamwedge of pineapple, to garnish (optional) Pineapple pine-ap-pelWith its tuft of spiky, dusty green leaves and cross-hatched, golden orange skin, the pineapple… \n"
     ]
    },
    {
     "data": {
      "text/html": [
       "<div>\n",
       "<style scoped>\n",
       "    .dataframe tbody tr th:only-of-type {\n",
       "        vertical-align: middle;\n",
       "    }\n",
       "\n",
       "    .dataframe tbody tr th {\n",
       "        vertical-align: top;\n",
       "    }\n",
       "\n",
       "    .dataframe thead th {\n",
       "        text-align: right;\n",
       "    }\n",
       "</style>\n",
       "<table border=\"1\" class=\"dataframe\">\n",
       "  <thead>\n",
       "    <tr style=\"text-align: right;\">\n",
       "      <th></th>\n",
       "      <th>cocktail_name</th>\n",
       "      <th>calories_per_serving</th>\n",
       "      <th>sugar</th>\n",
       "      <th>description</th>\n",
       "    </tr>\n",
       "  </thead>\n",
       "  <tbody>\n",
       "    <tr>\n",
       "      <th>0</th>\n",
       "      <td>Piña colada</td>\n",
       "      <td>314</td>\n",
       "      <td>13.6g</td>\n",
       "      <td>120ml pineapple juice Pineapple pine-ap-pelWit...</td>\n",
       "    </tr>\n",
       "  </tbody>\n",
       "</table>\n",
       "</div>"
      ],
      "text/plain": [
       "  cocktail_name calories_per_serving  sugar  \\\n",
       "0   Piña colada                  314  13.6g   \n",
       "\n",
       "                                         description  \n",
       "0  120ml pineapple juice Pineapple pine-ap-pelWit...  "
      ]
     },
     "execution_count": 156,
     "metadata": {},
     "output_type": "execute_result"
    }
   ],
   "source": [
    "ua = {\"User-Agent\":\"Mozilla/5.0 (Windows NT 6.1; Win64; x64; rv:68.0) Gecko/20100101 Firefox/68.0\"}\n",
    "\n",
    "page= requests.get('https://www.bbcgoodfood.com/recipes/pina-colada', headers=ua)\n",
    "\n",
    "soup=BeautifulSoup(page.content, 'html.parser')\n",
    "\n",
    "#cocktail_name\n",
    "cocktail_name=soup.h1.text\n",
    "print('cocktail_name:', cocktail_name)\n",
    "\n",
    "print('--------------')\n",
    "\n",
    "# calories per serving\n",
    "calories_per_serving=soup.find(class_='nutrition__value').text\n",
    "print('calories:', calories_per_serving)\n",
    "\n",
    "print('--------------')\n",
    "\n",
    "#sugar\n",
    "sugar=soup.find(itemprop='sugarContent').text\n",
    "print('sugar:',sugar)\n",
    "\n",
    "print('--------------')\n",
    "\n",
    "#description\n",
    "description=soup.find(class_='ingredients-list__group').text\n",
    "print('description:', description)    \n",
    "    \n",
    "\n",
    "Piña_Colada=pd.DataFrame(\n",
    "    {'cocktail_name': [cocktail_name],\n",
    "    'calories_per_serving': [calories_per_serving],\n",
    "    'sugar': [sugar],\n",
    "    'description': [description]}, index=[0])\n",
    "Piña_Colada\n",
    "    "
   ]
  },
  {
   "cell_type": "code",
   "execution_count": null,
   "metadata": {},
   "outputs": [],
   "source": []
  },
  {
   "cell_type": "markdown",
   "metadata": {},
   "source": [
    "### concatenating dataframes"
   ]
  },
  {
   "cell_type": "code",
   "execution_count": 159,
   "metadata": {},
   "outputs": [],
   "source": [
    "frames = [SexOnTheBeach, Mojito, Caipirinha, CubaLibre, LongIslandIcedTea,\n",
    "         BloodyMary, MaiTai, Piña_Colada]"
   ]
  },
  {
   "cell_type": "code",
   "execution_count": 162,
   "metadata": {},
   "outputs": [],
   "source": [
    "cocktail_data=pd.concat(frames).to_csv('Dataset1- Raw_Cocktail_Data.csv')"
   ]
  },
  {
   "cell_type": "code",
   "execution_count": null,
   "metadata": {},
   "outputs": [],
   "source": []
  }
 ],
 "metadata": {
  "kernelspec": {
   "display_name": "Python 3",
   "language": "python",
   "name": "python3"
  },
  "language_info": {
   "codemirror_mode": {
    "name": "ipython",
    "version": 3
   },
   "file_extension": ".py",
   "mimetype": "text/x-python",
   "name": "python",
   "nbconvert_exporter": "python",
   "pygments_lexer": "ipython3",
   "version": "3.8.1"
  }
 },
 "nbformat": 4,
 "nbformat_minor": 4
}
